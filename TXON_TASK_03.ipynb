{
 "cells": [
  {
   "cell_type": "code",
   "execution_count": null,
   "id": "58c6e4c9",
   "metadata": {
    "scrolled": true
   },
   "outputs": [
    {
     "name": "stdout",
     "output_type": "stream",
     "text": [
      "Present:- Amit Bhadana\n",
      "Absent:- ['Bhuvan Bam', 'Ashish Chanchlani', 'Carry Minati']\n"
     ]
    }
   ],
   "source": [
    "import dlib\n",
    "import face_recognition\n",
    "import cv2\n",
    "import numpy as np \n",
    "import csv\n",
    "import os\n",
    "import glob\n",
    "from datetime import datetime\n",
    "\n",
    "video_capture = cv2.VideoCapture(0)\n",
    "\n",
    "abhadana_image = face_recognition.load_image_file(\"Amit_Bhadana.jpg\")\n",
    "ab_encoding = face_recognition.face_encodings(abhadana_image)[0]\n",
    "\n",
    "bbam_image = face_recognition.load_image_file(\"bhuvan_bam.jpg\")\n",
    "bb_encoding = face_recognition.face_encodings(bbam_image)[0]\n",
    "\n",
    "achanchlani_image = face_recognition.load_image_file(\"Ashish_Chanchlani.jpg\")\n",
    "as_encoding = face_recognition.face_encodings(achanchlani_image)[0]\n",
    "\n",
    "cminati_image = face_recognition.load_image_file(\"carry_minati.jpeg\")\n",
    "cm_encoding = face_recognition.face_encodings(cminati_image)[0]\n",
    "\n",
    "\n",
    "known_face_encoding = [\n",
    "    ab_encoding,\n",
    "    bb_encoding,\n",
    "    as_encoding,\n",
    "    cm_encoding\n",
    "]\n",
    "\n",
    "known_faces_names = [\n",
    "    \"Amit Bhadana\",\n",
    "    \"Bhuvan Bam\",\n",
    "    \"Ashish Chanchlani\",\n",
    "    \"Carry Minati\"]\n",
    "\n",
    "students = known_faces_names.copy()\n",
    "\n",
    "face_locations = []\n",
    "face_encodings = []\n",
    "face_names = []\n",
    "s = True\n",
    "\n",
    "now = datetime.now()\n",
    "current_date = now.strftime(\"%Y:%M:%D\")\n",
    "\n",
    "f = open('attedance'+'.csv','w+',newline='')\n",
    "lnwriter = csv.writer(f)\n",
    "\n",
    "while True:\n",
    "    _,frame = video_capture.read()\n",
    "    small_frame = cv2.resize(frame,(0,0),fx=0.25,fy=0.25)\n",
    "    rgb_small_frame = small_frame[:,:,::-1]\n",
    "    if s:\n",
    "        face_locations = face_recognition.face_locations(rgb_small_frame)\n",
    "        face_encodings = face_recognition.face_encodings(rgb_small_frame,face_locations)\n",
    "        face_names = []\n",
    "        for face_encoding in face_encodings:\n",
    "            matches = face_recognition.compare_faces(known_face_encoding,face_encoding)\n",
    "            name = \"\"\n",
    "            face_distance = face_recognition.face_distance(known_face_encoding,face_encoding)\n",
    "            best_match_index = np.argmin(face_distance)\n",
    "            if matches[best_match_index]:\n",
    "                name = known_faces_names[best_match_index]\n",
    "\n",
    "            face_names.append(name)\n",
    "            if name in known_faces_names:\n",
    "                #print(\"present\")\n",
    "                if name in students:\n",
    "                    print(\"Present:-\", name)\n",
    "                    students.remove(name)\n",
    "                    print(\"Absent:-\", students)\n",
    "                    current_time = now.strftime(\"%H:%M:%S\")\n",
    "                    lnwriter.writerow([name,current_time])\n",
    "    cv2.imshow(\"Attedence sysytem\",frame)\n",
    "    if cv2.waitKey(1) & 0xFF == ord('q'):\n",
    "        break\n",
    "\n",
    "video_capture.release()\n",
    "cv2.destroyAllWindows()\n",
    "f.close()"
   ]
  }
 ],
 "metadata": {
  "kernelspec": {
   "display_name": "Python 3 (ipykernel)",
   "language": "python",
   "name": "python3"
  },
  "language_info": {
   "codemirror_mode": {
    "name": "ipython",
    "version": 3
   },
   "file_extension": ".py",
   "mimetype": "text/x-python",
   "name": "python",
   "nbconvert_exporter": "python",
   "pygments_lexer": "ipython3",
   "version": "3.10.9"
  }
 },
 "nbformat": 4,
 "nbformat_minor": 5
}
